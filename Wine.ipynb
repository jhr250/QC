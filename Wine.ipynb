{
 "cells": [
  {
   "cell_type": "code",
   "execution_count": 6,
   "id": "6adb7962-8026-4c93-861c-c92d29303599",
   "metadata": {},
   "outputs": [],
   "source": [
    "import time\n",
    "import numpy as np\n",
    "seed = 1234\n",
    "np.random.seed(seed)\n",
    "\n",
    "from sklearn.datasets import load_wine\n",
    "x, y = load_wine(return_X_y=True)  # Load all 178 samples, 3 classes\n",
    "\n",
    "# Perform train-test split\n",
    "from sklearn.model_selection import train_test_split\n",
    "x_tr, x_test, y_tr, y_test = train_test_split(x, y, train_size=0.8, random_state=seed)\n",
    "\n",
    "# Standardize data\n",
    "from sklearn.preprocessing import MaxAbsScaler\n",
    "scaler = MaxAbsScaler()\n",
    "x_tr = scaler.fit_transform(x_tr)\n",
    "x_test = scaler.transform(x_test)\n",
    "x_test = np.clip(x_test, 0, 1)\n"
   ]
  },
  {
   "cell_type": "code",
   "execution_count": 7,
   "id": "0ceab066-5fdc-40f5-baf5-e1d7296e5c4b",
   "metadata": {},
   "outputs": [],
   "source": [
    "#from sklearn.decomposition import PCA\n",
    "#pca = PCA(n_components=13)\n",
    "#xs_tr = pca.fit_transform(x_tr)\n",
    "#xs_test = pca.transform(x_test)\n",
    "xs_tr = x_tr\n",
    "xs_test = x_test"
   ]
  },
  {
   "cell_type": "code",
   "execution_count": 12,
   "id": "a26bd7a0-cc0b-4081-ba44-01c5ae62974e",
   "metadata": {},
   "outputs": [
    {
     "name": "stdout",
     "output_type": "stream",
     "text": [
      "SVM RBF Kernel Accuracy (3 classes): 0.9444\n",
      "\n",
      "Classification Report:\n",
      "              precision    recall  f1-score   support\n",
      "\n",
      "           0       1.00      0.90      0.95        10\n",
      "           1       0.94      0.94      0.94        17\n",
      "           2       0.90      1.00      0.95         9\n",
      "\n",
      "    accuracy                           0.94        36\n",
      "   macro avg       0.95      0.95      0.95        36\n",
      "weighted avg       0.95      0.94      0.94        36\n",
      "\n",
      "Elapsed time: 0.0046 seconds\n"
     ]
    }
   ],
   "source": [
    "from sklearn.svm import SVC\n",
    "from sklearn.metrics import classification_report, accuracy_score\n",
    "\n",
    "start_time = time.time()\n",
    "\n",
    "# SVM classifier with RBF kernel\n",
    "svm_rbf = SVC(kernel='rbf', gamma='scale', random_state=1234)\n",
    "svm_rbf.fit(x_tr, y_tr)\n",
    "\n",
    "# Predict on test data\n",
    "y_pred = svm_rbf.predict(x_test)\n",
    "\n",
    "# Evaluate accuracy\n",
    "accuracy = accuracy_score(y_test, y_pred)\n",
    "print(f\"SVM RBF Kernel Accuracy (3 classes): {accuracy:.4f}\\n\")\n",
    "\n",
    "# Detailed classification report\n",
    "print(\"Classification Report:\")\n",
    "print(classification_report(y_test, y_pred))\n",
    "\n",
    "end_time = time.time()\n",
    "elapsed_time = end_time - start_time\n",
    "print(f\"Elapsed time: {elapsed_time:.4f} seconds\")\n"
   ]
  },
  {
   "cell_type": "code",
   "execution_count": 8,
   "id": "dde6afc7-bc48-4c20-8a78-2f34b47e7b69",
   "metadata": {},
   "outputs": [
    {
     "name": "stderr",
     "output_type": "stream",
     "text": [
      "/tmp/ipykernel_561/1683175816.py:20: DeprecationWarning: The class ``qiskit.primitives.sampler.Sampler`` is deprecated as of qiskit 1.2. It will be removed no earlier than 3 months after the release date. All implementations of the `BaseSamplerV1` interface have been deprecated in favor of their V2 counterparts. The V2 alternative for the `Sampler` class is `StatevectorSampler`.\n",
      "  sampler = Sampler()\n"
     ]
    },
    {
     "name": "stdout",
     "output_type": "stream",
     "text": [
      "GPU-accelerated QSVC accuracy (no entanglement): 0.9444\n",
      "Elapsed time: 345.89 seconds\n"
     ]
    }
   ],
   "source": [
    "\n",
    "from qiskit.circuit.library import ZFeatureMap\n",
    "from qiskit_aer import AerSimulator\n",
    "from qiskit_machine_learning.algorithms import QSVC\n",
    "from qiskit_machine_learning.kernels import FidelityQuantumKernel\n",
    "from qiskit.primitives import Sampler\n",
    "from qiskit_algorithms.state_fidelities import ComputeUncompute\n",
    "from sklearn.metrics import accuracy_score\n",
    "\n",
    "start_time = time.time()\n",
    "\n",
    "# GPU-accelerated simulator\n",
    "simulator_gpu = AerSimulator(device='GPU')\n",
    "\n",
    "# Define ZFeatureMap (no entanglement)\n",
    "nqubits = 13  # same as your original setup\n",
    "zfm = ZFeatureMap(feature_dimension=nqubits, reps=2)\n",
    "\n",
    "# FidelityQuantumKernel setup\n",
    "sampler = Sampler()\n",
    "fidelity = ComputeUncompute(sampler=sampler)\n",
    "quantum_kernel_gpu = FidelityQuantumKernel(feature_map=zfm, fidelity=fidelity)\n",
    "\n",
    "# QSVC using FidelityQuantumKernel\n",
    "qsvm_gpu = QSVC(quantum_kernel=quantum_kernel_gpu)\n",
    "qsvm_gpu.fit(xs_tr, y_tr)\n",
    "\n",
    "# Evaluate and print GPU-accelerated results\n",
    "y_pred_gpu = qsvm_gpu.predict(xs_test)\n",
    "accuracy_gpu = accuracy_score(y_test, y_pred_gpu)\n",
    "print(f\"GPU-accelerated QSVC accuracy (no entanglement): {accuracy_gpu:.4f}\")\n",
    "\n",
    "end_time = time.time()\n",
    "elapsed_time = end_time - start_time\n",
    "print(f\"Elapsed time: {elapsed_time:.2f} seconds\")\n"
   ]
  },
  {
   "cell_type": "code",
   "execution_count": 22,
   "id": "f2b73397-d180-4ec5-8b49-ec4efeb37ec4",
   "metadata": {},
   "outputs": [
    {
     "name": "stderr",
     "output_type": "stream",
     "text": [
      "/tmp/ipykernel_561/1011990017.py:21: DeprecationWarning: The class ``qiskit.primitives.sampler.Sampler`` is deprecated as of qiskit 1.2. It will be removed no earlier than 3 months after the release date. All implementations of the `BaseSamplerV1` interface have been deprecated in favor of their V2 counterparts. The V2 alternative for the `Sampler` class is `StatevectorSampler`.\n",
      "  sampler = Sampler()\n"
     ]
    },
    {
     "name": "stdout",
     "output_type": "stream",
     "text": [
      "GPU-accelerated QSVC accuracy: 0.9167\n",
      "Elapsed time: 494.29 seconds\n"
     ]
    }
   ],
   "source": [
    "import time\n",
    "from qiskit.circuit.library import ZZFeatureMap\n",
    "from qiskit_aer import AerSimulator\n",
    "from qiskit_machine_learning.algorithms import QSVC\n",
    "from qiskit_machine_learning.kernels import FidelityQuantumKernel\n",
    "from qiskit.primitives import Sampler\n",
    "from qiskit_algorithms.state_fidelities import ComputeUncompute\n",
    "from sklearn.metrics import accuracy_score\n",
    "\n",
    "start_time = time.time()\n",
    "\n",
    "# GPU-accelerated simulator\n",
    "simulator_gpu = AerSimulator(device='GPU')\n",
    "\n",
    "\n",
    "# Define ZZFeatureMap\n",
    "nqubits = 13\n",
    "zzfm = ZZFeatureMap(feature_dimension=nqubits, reps=1, entanglement='pairwise')\n",
    "\n",
    "# FidelityQuantumKernel setup\n",
    "sampler = Sampler()\n",
    "fidelity = ComputeUncompute(sampler=sampler)\n",
    "quantum_kernel_gpu = FidelityQuantumKernel(feature_map=zzfm, fidelity=fidelity)\n",
    "\n",
    "# QSVC using FidelityQuantumKernel\n",
    "qsvm_gpu = QSVC(quantum_kernel=quantum_kernel_gpu)\n",
    "qsvm_gpu.fit(xs_tr, y_tr)\n",
    "\n",
    "# Evaluate and print GPU-accelerated results\n",
    "y_pred_gpu = qsvm_gpu.predict(xs_test)\n",
    "accuracy_gpu = accuracy_score(y_test, y_pred_gpu)\n",
    "print(f\"GPU-accelerated QSVC accuracy: {accuracy_gpu:.4f}\")\n",
    "\n",
    "end_time = time.time()\n",
    "elapsed_time = end_time - start_time\n",
    "print(f\"Elapsed time: {elapsed_time:.2f} seconds\")\n",
    "\n"
   ]
  },
  {
   "cell_type": "code",
   "execution_count": 2,
   "id": "9d4b0f58-a7dd-4c0c-ad48-17ec3e41960b",
   "metadata": {},
   "outputs": [
    {
     "name": "stdout",
     "output_type": "stream",
     "text": [
      "0.8.2\n"
     ]
    }
   ],
   "source": [
    "import qiskit_machine_learning\n",
    "print(qiskit_machine_learning.__version__)\n"
   ]
  },
  {
   "cell_type": "code",
   "execution_count": 1,
   "id": "c1dc8668-4ff5-4f3f-855b-4b7c54a05974",
   "metadata": {},
   "outputs": [
    {
     "name": "stdout",
     "output_type": "stream",
     "text": [
      "0.3.1\n"
     ]
    }
   ],
   "source": [
    "import qiskit_algorithms\n",
    "print(qiskit_algorithms.__version__)\n"
   ]
  },
  {
   "cell_type": "code",
   "execution_count": null,
   "id": "ff00b22c-fc7a-4ab4-950b-321a6978bd01",
   "metadata": {},
   "outputs": [],
   "source": []
  }
 ],
 "metadata": {
  "kernelspec": {
   "display_name": "Python 3 (ipykernel)",
   "language": "python",
   "name": "python3"
  },
  "language_info": {
   "codemirror_mode": {
    "name": "ipython",
    "version": 3
   },
   "file_extension": ".py",
   "mimetype": "text/x-python",
   "name": "python",
   "nbconvert_exporter": "python",
   "pygments_lexer": "ipython3",
   "version": "3.11.11"
  }
 },
 "nbformat": 4,
 "nbformat_minor": 5
}
