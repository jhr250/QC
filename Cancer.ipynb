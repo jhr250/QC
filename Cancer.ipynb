{
 "cells": [
  {
   "cell_type": "code",
   "execution_count": 8,
   "id": "6adb7962-8026-4c93-861c-c92d29303599",
   "metadata": {},
   "outputs": [],
   "source": [
    "import time\n",
    "from sklearn.datasets import load_breast_cancer\n",
    "import numpy as np\n",
    "from sklearn.model_selection import train_test_split\n",
    "from sklearn.preprocessing import MaxAbsScaler\n",
    "\n",
    "# Load dataset\n",
    "x, y = load_breast_cancer(return_X_y=True)\n",
    "\n",
    "# Reduce dimensionality to first 10 dimensions for initial tests\n",
    "num_initial_dims = 30\n",
    "\n",
    "x = x[:, :num_initial_dims]\n",
    "\n",
    "# Split dataset\n",
    "x_tr, x_test, y_tr, y_test = train_test_split(x, y, train_size=0.9, random_state=1234)\n",
    "\n",
    "# Preprocess data\n",
    "scaler = MaxAbsScaler()\n",
    "x_tr = scaler.fit_transform(x_tr)\n",
    "x_test = scaler.transform(x_test)\n",
    "x_test = np.clip(x_test, 0, 1)\n",
    "\n"
   ]
  },
  {
   "cell_type": "code",
   "execution_count": 5,
   "id": "0ceab066-5fdc-40f5-baf5-e1d7296e5c4b",
   "metadata": {},
   "outputs": [],
   "source": [
    "#from sklearn.decomposition import PCA\n",
    "#pca = PCA(n_components=13)\n",
    "#xs_tr = pca.fit_transform(x_tr)\n",
    "#xs_test = pca.transform(x_test)\n",
    "xs_tr = x_tr\n",
    "xs_test = x_test\n"
   ]
  },
  {
   "cell_type": "code",
   "execution_count": 9,
   "id": "a26bd7a0-cc0b-4081-ba44-01c5ae62974e",
   "metadata": {},
   "outputs": [
    {
     "name": "stdout",
     "output_type": "stream",
     "text": [
      "SVM RBF Kernel Accuracy : 0.9474\n",
      "\n",
      "Classification Report:\n",
      "              precision    recall  f1-score   support\n",
      "\n",
      "           0       1.00      0.85      0.92        20\n",
      "           1       0.93      1.00      0.96        37\n",
      "\n",
      "    accuracy                           0.95        57\n",
      "   macro avg       0.96      0.93      0.94        57\n",
      "weighted avg       0.95      0.95      0.95        57\n",
      "\n",
      "Elapsed time: 0.0129 seconds\n"
     ]
    }
   ],
   "source": [
    "from sklearn.svm import SVC\n",
    "from sklearn.metrics import classification_report, accuracy_score\n",
    "\n",
    "start_time = time.time()\n",
    "\n",
    "# SVM classifier with RBF kernel\n",
    "svm_rbf = SVC(kernel='rbf', gamma='scale', random_state=1234)\n",
    "svm_rbf.fit(x_tr, y_tr)\n",
    "\n",
    "# Predict on test data\n",
    "y_pred = svm_rbf.predict(x_test)\n",
    "\n",
    "# Evaluate accuracy\n",
    "accuracy = accuracy_score(y_test, y_pred)\n",
    "print(f\"SVM RBF Kernel Accuracy : {accuracy:.4f}\\n\")\n",
    "\n",
    "# Detailed classification report\n",
    "print(\"Classification Report:\")\n",
    "print(classification_report(y_test, y_pred))\n",
    "\n",
    "end_time = time.time()\n",
    "elapsed_time = end_time - start_time\n",
    "print(f\"Elapsed time: {elapsed_time:.4f} seconds\")\n"
   ]
  },
  {
   "cell_type": "code",
   "execution_count": null,
   "id": "dde6afc7-bc48-4c20-8a78-2f34b47e7b69",
   "metadata": {},
   "outputs": [],
   "source": [
    "from qiskit.circuit.library import ZFeatureMap\n",
    "from qiskit_aer import AerSimulator\n",
    "from qiskit_machine_learning.algorithms import QSVC\n",
    "from qiskit_machine_learning.kernels import FidelityQuantumKernel\n",
    "from qiskit.primitives import Sampler\n",
    "from qiskit_algorithms.state_fidelities import ComputeUncompute\n",
    "from sklearn.metrics import accuracy_score\n",
    "\n",
    "start_time = time.time()\n",
    "\n",
    "# GPU-accelerated simulator\n",
    "simulator_gpu = AerSimulator(device='GPU')\n",
    "\n",
    "# Define ZFeatureMap (no entanglement)\n",
    "nqubits = 10  # same as your original setup\n",
    "zfm = ZFeatureMap(feature_dimension=nqubits, reps=1)\n",
    "\n",
    "# FidelityQuantumKernel setup\n",
    "sampler = Sampler()\n",
    "fidelity = ComputeUncompute(sampler=sampler)\n",
    "quantum_kernel_gpu = FidelityQuantumKernel(feature_map=zfm, fidelity=fidelity)\n",
    "\n",
    "# QSVC using FidelityQuantumKernel\n",
    "qsvm_gpu = QSVC(quantum_kernel=quantum_kernel_gpu)\n",
    "qsvm_gpu.fit(xs_tr, y_tr)\n",
    "\n",
    "# Evaluate and print GPU-accelerated results\n",
    "y_pred_gpu = qsvm_gpu.predict(xs_test)\n",
    "accuracy_gpu = accuracy_score(y_test, y_pred_gpu)\n",
    "print(f\"GPU-accelerated QSVC accuracy (no entanglement): {accuracy_gpu:.4f}\")\n",
    "\n",
    "end_time = time.time()\n",
    "elapsed_time = end_time - start_time\n",
    "print(f\"Elapsed time: {elapsed_time:.2f} seconds\")\n"
   ]
  },
  {
   "cell_type": "code",
   "execution_count": 10,
   "id": "f2b73397-d180-4ec5-8b49-ec4efeb37ec4",
   "metadata": {},
   "outputs": [
    {
     "name": "stderr",
     "output_type": "stream",
     "text": [
      "/tmp/ipykernel_759/2408073286.py:21: DeprecationWarning: The class ``qiskit.primitives.sampler.Sampler`` is deprecated as of qiskit 1.2. It will be removed no earlier than 3 months after the release date. All implementations of the `BaseSamplerV1` interface have been deprecated in favor of their V2 counterparts. The V2 alternative for the `Sampler` class is `StatevectorSampler`.\n",
      "  sampler = Sampler()\n"
     ]
    },
    {
     "ename": "KeyboardInterrupt",
     "evalue": "",
     "output_type": "error",
     "traceback": [
      "\u001b[31m---------------------------------------------------------------------------\u001b[39m",
      "\u001b[31mKeyboardInterrupt\u001b[39m                         Traceback (most recent call last)",
      "\u001b[36mCell\u001b[39m\u001b[36m \u001b[39m\u001b[32mIn[10]\u001b[39m\u001b[32m, line 27\u001b[39m\n\u001b[32m     25\u001b[39m \u001b[38;5;66;03m# QSVC using FidelityQuantumKernel\u001b[39;00m\n\u001b[32m     26\u001b[39m qsvm_gpu = QSVC(quantum_kernel=quantum_kernel_gpu)\n\u001b[32m---> \u001b[39m\u001b[32m27\u001b[39m qsvm_gpu.fit(xs_tr, y_tr)\n\u001b[32m     29\u001b[39m \u001b[38;5;66;03m# Evaluate and print GPU-accelerated results\u001b[39;00m\n\u001b[32m     30\u001b[39m y_pred_gpu = qsvm_gpu.predict(xs_test)\n",
      "\u001b[36mFile \u001b[39m\u001b[32m~/miniconda3/envs/aer-gpu-new/lib/python3.11/site-packages/sklearn/base.py:1389\u001b[39m, in \u001b[36m_fit_context.<locals>.decorator.<locals>.wrapper\u001b[39m\u001b[34m(estimator, *args, **kwargs)\u001b[39m\n\u001b[32m   1382\u001b[39m     estimator._validate_params()\n\u001b[32m   1384\u001b[39m \u001b[38;5;28;01mwith\u001b[39;00m config_context(\n\u001b[32m   1385\u001b[39m     skip_parameter_validation=(\n\u001b[32m   1386\u001b[39m         prefer_skip_nested_validation \u001b[38;5;129;01mor\u001b[39;00m global_skip_validation\n\u001b[32m   1387\u001b[39m     )\n\u001b[32m   1388\u001b[39m ):\n\u001b[32m-> \u001b[39m\u001b[32m1389\u001b[39m     \u001b[38;5;28;01mreturn\u001b[39;00m fit_method(estimator, *args, **kwargs)\n",
      "\u001b[36mFile \u001b[39m\u001b[32m~/miniconda3/envs/aer-gpu-new/lib/python3.11/site-packages/sklearn/svm/_base.py:258\u001b[39m, in \u001b[36mBaseLibSVM.fit\u001b[39m\u001b[34m(self, X, y, sample_weight)\u001b[39m\n\u001b[32m    255\u001b[39m     \u001b[38;5;28mprint\u001b[39m(\u001b[33m\"\u001b[39m\u001b[33m[LibSVM]\u001b[39m\u001b[33m\"\u001b[39m, end=\u001b[33m\"\u001b[39m\u001b[33m\"\u001b[39m)\n\u001b[32m    257\u001b[39m seed = rnd.randint(np.iinfo(\u001b[33m\"\u001b[39m\u001b[33mi\u001b[39m\u001b[33m\"\u001b[39m).max)\n\u001b[32m--> \u001b[39m\u001b[32m258\u001b[39m fit(X, y, sample_weight, solver_type, kernel, random_seed=seed)\n\u001b[32m    259\u001b[39m \u001b[38;5;66;03m# see comment on the other call to np.iinfo in this file\u001b[39;00m\n\u001b[32m    261\u001b[39m \u001b[38;5;28mself\u001b[39m.shape_fit_ = X.shape \u001b[38;5;28;01mif\u001b[39;00m \u001b[38;5;28mhasattr\u001b[39m(X, \u001b[33m\"\u001b[39m\u001b[33mshape\u001b[39m\u001b[33m\"\u001b[39m) \u001b[38;5;28;01melse\u001b[39;00m (n_samples,)\n",
      "\u001b[36mFile \u001b[39m\u001b[32m~/miniconda3/envs/aer-gpu-new/lib/python3.11/site-packages/sklearn/svm/_base.py:317\u001b[39m, in \u001b[36mBaseLibSVM._dense_fit\u001b[39m\u001b[34m(self, X, y, sample_weight, solver_type, kernel, random_seed)\u001b[39m\n\u001b[32m    313\u001b[39m \u001b[38;5;28;01mif\u001b[39;00m \u001b[38;5;28mcallable\u001b[39m(\u001b[38;5;28mself\u001b[39m.kernel):\n\u001b[32m    314\u001b[39m     \u001b[38;5;66;03m# you must store a reference to X to compute the kernel in predict\u001b[39;00m\n\u001b[32m    315\u001b[39m     \u001b[38;5;66;03m# TODO: add keyword copy to copy on demand\u001b[39;00m\n\u001b[32m    316\u001b[39m     \u001b[38;5;28mself\u001b[39m.__Xfit = X\n\u001b[32m--> \u001b[39m\u001b[32m317\u001b[39m     X = \u001b[38;5;28mself\u001b[39m._compute_kernel(X)\n\u001b[32m    319\u001b[39m     \u001b[38;5;28;01mif\u001b[39;00m X.shape[\u001b[32m0\u001b[39m] != X.shape[\u001b[32m1\u001b[39m]:\n\u001b[32m    320\u001b[39m         \u001b[38;5;28;01mraise\u001b[39;00m \u001b[38;5;167;01mValueError\u001b[39;00m(\u001b[33m\"\u001b[39m\u001b[33mX.shape[0] should be equal to X.shape[1]\u001b[39m\u001b[33m\"\u001b[39m)\n",
      "\u001b[36mFile \u001b[39m\u001b[32m~/miniconda3/envs/aer-gpu-new/lib/python3.11/site-packages/sklearn/svm/_base.py:515\u001b[39m, in \u001b[36mBaseLibSVM._compute_kernel\u001b[39m\u001b[34m(self, X)\u001b[39m\n\u001b[32m    511\u001b[39m \u001b[38;5;250m\u001b[39m\u001b[33;03m\"\"\"Return the data transformed by a callable kernel\"\"\"\u001b[39;00m\n\u001b[32m    512\u001b[39m \u001b[38;5;28;01mif\u001b[39;00m \u001b[38;5;28mcallable\u001b[39m(\u001b[38;5;28mself\u001b[39m.kernel):\n\u001b[32m    513\u001b[39m     \u001b[38;5;66;03m# in the case of precomputed kernel given as a function, we\u001b[39;00m\n\u001b[32m    514\u001b[39m     \u001b[38;5;66;03m# have to compute explicitly the kernel matrix\u001b[39;00m\n\u001b[32m--> \u001b[39m\u001b[32m515\u001b[39m     kernel = \u001b[38;5;28mself\u001b[39m.kernel(X, \u001b[38;5;28mself\u001b[39m.__Xfit)\n\u001b[32m    516\u001b[39m     \u001b[38;5;28;01mif\u001b[39;00m sp.issparse(kernel):\n\u001b[32m    517\u001b[39m         kernel = kernel.toarray()\n",
      "\u001b[36mFile \u001b[39m\u001b[32m~/miniconda3/envs/aer-gpu-new/lib/python3.11/site-packages/qiskit_machine_learning/kernels/fidelity_quantum_kernel.py:114\u001b[39m, in \u001b[36mFidelityQuantumKernel.evaluate\u001b[39m\u001b[34m(self, x_vec, y_vec)\u001b[39m\n\u001b[32m    112\u001b[39m \u001b[38;5;28;01mif\u001b[39;00m is_symmetric:\n\u001b[32m    113\u001b[39m     left_parameters, right_parameters, indices = \u001b[38;5;28mself\u001b[39m._get_symmetric_parameterization(x_vec)\n\u001b[32m--> \u001b[39m\u001b[32m114\u001b[39m     kernel_matrix = \u001b[38;5;28mself\u001b[39m._get_symmetric_kernel_matrix(\n\u001b[32m    115\u001b[39m         kernel_shape, left_parameters, right_parameters, indices\n\u001b[32m    116\u001b[39m     )\n\u001b[32m    117\u001b[39m \u001b[38;5;28;01melse\u001b[39;00m:\n\u001b[32m    118\u001b[39m     left_parameters, right_parameters, indices = \u001b[38;5;28mself\u001b[39m._get_parameterization(x_vec, y_vec)\n",
      "\u001b[36mFile \u001b[39m\u001b[32m~/miniconda3/envs/aer-gpu-new/lib/python3.11/site-packages/qiskit_machine_learning/kernels/fidelity_quantum_kernel.py:208\u001b[39m, in \u001b[36mFidelityQuantumKernel._get_symmetric_kernel_matrix\u001b[39m\u001b[34m(self, kernel_shape, left_parameters, right_parameters, indices)\u001b[39m\n\u001b[32m    198\u001b[39m \u001b[38;5;28;01mdef\u001b[39;00m\u001b[38;5;250m \u001b[39m\u001b[34m_get_symmetric_kernel_matrix\u001b[39m(\n\u001b[32m    199\u001b[39m     \u001b[38;5;28mself\u001b[39m,\n\u001b[32m    200\u001b[39m     kernel_shape: \u001b[38;5;28mtuple\u001b[39m[\u001b[38;5;28mint\u001b[39m, \u001b[38;5;28mint\u001b[39m],\n\u001b[32m   (...)\u001b[39m\u001b[32m    203\u001b[39m     indices: KernelIndices,\n\u001b[32m    204\u001b[39m ) -> np.ndarray:\n\u001b[32m    205\u001b[39m \u001b[38;5;250m    \u001b[39m\u001b[33;03m\"\"\"\u001b[39;00m\n\u001b[32m    206\u001b[39m \u001b[33;03m    Given a set of parameterization, this computes the kernel matrix.\u001b[39;00m\n\u001b[32m    207\u001b[39m \u001b[33;03m    \"\"\"\u001b[39;00m\n\u001b[32m--> \u001b[39m\u001b[32m208\u001b[39m     kernel_entries = \u001b[38;5;28mself\u001b[39m._get_kernel_entries(left_parameters, right_parameters)\n\u001b[32m    209\u001b[39m     kernel_matrix = np.ones(kernel_shape)\n\u001b[32m    211\u001b[39m     \u001b[38;5;28;01mfor\u001b[39;00m i, (col, row) \u001b[38;5;129;01min\u001b[39;00m \u001b[38;5;28menumerate\u001b[39m(indices):\n",
      "\u001b[36mFile \u001b[39m\u001b[32m~/miniconda3/envs/aer-gpu-new/lib/python3.11/site-packages/qiskit_machine_learning/kernels/fidelity_quantum_kernel.py:229\u001b[39m, in \u001b[36mFidelityQuantumKernel._get_kernel_entries\u001b[39m\u001b[34m(self, left_parameters, right_parameters)\u001b[39m\n\u001b[32m    227\u001b[39m \u001b[38;5;28;01mif\u001b[39;00m num_circuits != \u001b[32m0\u001b[39m:\n\u001b[32m    228\u001b[39m     \u001b[38;5;28;01mif\u001b[39;00m \u001b[38;5;28mself\u001b[39m.max_circuits_per_job \u001b[38;5;129;01mis\u001b[39;00m \u001b[38;5;28;01mNone\u001b[39;00m:\n\u001b[32m--> \u001b[39m\u001b[32m229\u001b[39m         job = \u001b[38;5;28mself\u001b[39m._fidelity.run(\n\u001b[32m    230\u001b[39m             [\u001b[38;5;28mself\u001b[39m._feature_map] * num_circuits,\n\u001b[32m    231\u001b[39m             [\u001b[38;5;28mself\u001b[39m._feature_map] * num_circuits,\n\u001b[32m    232\u001b[39m             left_parameters,  \u001b[38;5;66;03m# type: ignore[arg-type]\u001b[39;00m\n\u001b[32m    233\u001b[39m             right_parameters,  \u001b[38;5;66;03m# type: ignore[arg-type]\u001b[39;00m\n\u001b[32m    234\u001b[39m         )\n\u001b[32m    235\u001b[39m         kernel_entries = job.result().fidelities\n\u001b[32m    236\u001b[39m     \u001b[38;5;28;01melse\u001b[39;00m:\n\u001b[32m    237\u001b[39m         \u001b[38;5;66;03m# Determine the number of chunks needed\u001b[39;00m\n",
      "\u001b[36mFile \u001b[39m\u001b[32m~/miniconda3/envs/aer-gpu-new/lib/python3.11/site-packages/qiskit_algorithms/state_fidelities/base_state_fidelity.py:298\u001b[39m, in \u001b[36mBaseStateFidelity.run\u001b[39m\u001b[34m(self, circuits_1, circuits_2, values_1, values_2, **options)\u001b[39m\n\u001b[32m    270\u001b[39m \u001b[38;5;28;01mdef\u001b[39;00m\u001b[38;5;250m \u001b[39m\u001b[34mrun\u001b[39m(\n\u001b[32m    271\u001b[39m     \u001b[38;5;28mself\u001b[39m,\n\u001b[32m    272\u001b[39m     circuits_1: QuantumCircuit | Sequence[QuantumCircuit],\n\u001b[32m   (...)\u001b[39m\u001b[32m    276\u001b[39m     **options,\n\u001b[32m    277\u001b[39m ) -> AlgorithmJob:\n\u001b[32m    278\u001b[39m \u001b[38;5;250m    \u001b[39m\u001b[33mr\u001b[39m\u001b[33;03m\"\"\"\u001b[39;00m\n\u001b[32m    279\u001b[39m \u001b[33;03m    Runs asynchronously the state overlap (fidelity) calculation between two\u001b[39;00m\n\u001b[32m    280\u001b[39m \u001b[33;03m    (parametrized) circuits (first and second) for a specific set of parameter\u001b[39;00m\n\u001b[32m   (...)\u001b[39m\u001b[32m    296\u001b[39m \u001b[33;03m        The job's result is an instance of :class:`.StateFidelityResult`.\u001b[39;00m\n\u001b[32m    297\u001b[39m \u001b[33;03m    \"\"\"\u001b[39;00m\n\u001b[32m--> \u001b[39m\u001b[32m298\u001b[39m     job = \u001b[38;5;28mself\u001b[39m._run(circuits_1, circuits_2, values_1, values_2, **options)\n\u001b[32m    300\u001b[39m     job.submit()\n\u001b[32m    301\u001b[39m     \u001b[38;5;28;01mreturn\u001b[39;00m job\n",
      "\u001b[36mFile \u001b[39m\u001b[32m~/miniconda3/envs/aer-gpu-new/lib/python3.11/site-packages/qiskit_algorithms/state_fidelities/compute_uncompute.py:160\u001b[39m, in \u001b[36mComputeUncompute._run\u001b[39m\u001b[34m(self, circuits_1, circuits_2, values_1, values_2, **options)\u001b[39m\n\u001b[32m    157\u001b[39m opts = copy(\u001b[38;5;28mself\u001b[39m._default_options)\n\u001b[32m    158\u001b[39m opts.update_options(**options)\n\u001b[32m--> \u001b[39m\u001b[32m160\u001b[39m sampler_job = \u001b[38;5;28mself\u001b[39m._sampler.run(circuits=circuits, parameter_values=values, **opts.\u001b[34m__dict__\u001b[39m)\n\u001b[32m    162\u001b[39m local_opts = \u001b[38;5;28mself\u001b[39m._get_local_options(opts.\u001b[34m__dict__\u001b[39m)\n\u001b[32m    163\u001b[39m \u001b[38;5;28;01mreturn\u001b[39;00m AlgorithmJob(ComputeUncompute._call, sampler_job, circuits, \u001b[38;5;28mself\u001b[39m._local, local_opts)\n",
      "\u001b[36mFile \u001b[39m\u001b[32m~/miniconda3/envs/aer-gpu-new/lib/python3.11/site-packages/qiskit/primitives/base/base_sampler.py:132\u001b[39m, in \u001b[36mBaseSamplerV1.run\u001b[39m\u001b[34m(self, circuits, parameter_values, **run_options)\u001b[39m\n\u001b[32m    117\u001b[39m \u001b[38;5;250m\u001b[39m\u001b[33;03m\"\"\"Run the job of the sampling of bitstrings.\u001b[39;00m\n\u001b[32m    118\u001b[39m \n\u001b[32m    119\u001b[39m \u001b[33;03mArgs:\u001b[39;00m\n\u001b[32m   (...)\u001b[39m\u001b[32m    129\u001b[39m \u001b[33;03m    ValueError: Invalid arguments are given.\u001b[39;00m\n\u001b[32m    130\u001b[39m \u001b[33;03m\"\"\"\u001b[39;00m\n\u001b[32m    131\u001b[39m \u001b[38;5;66;03m# Validation\u001b[39;00m\n\u001b[32m--> \u001b[39m\u001b[32m132\u001b[39m circuits, parameter_values = validation._validate_sampler_args(circuits, parameter_values)\n\u001b[32m    134\u001b[39m \u001b[38;5;66;03m# Options\u001b[39;00m\n\u001b[32m    135\u001b[39m run_opts = copy(\u001b[38;5;28mself\u001b[39m.options)\n",
      "\u001b[36mFile \u001b[39m\u001b[32m~/miniconda3/envs/aer-gpu-new/lib/python3.11/site-packages/qiskit/primitives/base/validation.py:88\u001b[39m, in \u001b[36m_validate_sampler_args\u001b[39m\u001b[34m(circuits, parameter_values)\u001b[39m\n\u001b[32m     86\u001b[39m \u001b[38;5;66;03m# Singular validation\u001b[39;00m\n\u001b[32m     87\u001b[39m circuits = _validate_circuits(circuits, requires_measure=\u001b[38;5;28;01mTrue\u001b[39;00m)\n\u001b[32m---> \u001b[39m\u001b[32m88\u001b[39m parameter_values = _validate_parameter_values(\n\u001b[32m     89\u001b[39m     parameter_values,\n\u001b[32m     90\u001b[39m     default=[()] * \u001b[38;5;28mlen\u001b[39m(circuits),\n\u001b[32m     91\u001b[39m )\n\u001b[32m     93\u001b[39m \u001b[38;5;66;03m# Cross-validation\u001b[39;00m\n\u001b[32m     94\u001b[39m _cross_validate_circuits_parameter_values(circuits, parameter_values)\n",
      "\u001b[36mFile \u001b[39m\u001b[32m~/miniconda3/envs/aer-gpu-new/lib/python3.11/site-packages/qiskit/primitives/base/validation.py:161\u001b[39m, in \u001b[36m_validate_parameter_values\u001b[39m\u001b[34m(parameter_values, default)\u001b[39m\n\u001b[32m    155\u001b[39m     parameter_values = (parameter_values,)\n\u001b[32m    157\u001b[39m \u001b[38;5;66;03m# Validation\u001b[39;00m\n\u001b[32m    158\u001b[39m \u001b[38;5;28;01mif\u001b[39;00m (\n\u001b[32m    159\u001b[39m     \u001b[38;5;129;01mnot\u001b[39;00m \u001b[38;5;28misinstance\u001b[39m(parameter_values, Sequence)\n\u001b[32m    160\u001b[39m     \u001b[38;5;129;01mor\u001b[39;00m \u001b[38;5;129;01mnot\u001b[39;00m \u001b[38;5;28mall\u001b[39m(\u001b[38;5;28misinstance\u001b[39m(vector, Sequence) \u001b[38;5;28;01mfor\u001b[39;00m vector \u001b[38;5;129;01min\u001b[39;00m parameter_values)\n\u001b[32m--> \u001b[39m\u001b[32m161\u001b[39m     \u001b[38;5;129;01mor\u001b[39;00m \u001b[38;5;129;01mnot\u001b[39;00m \u001b[38;5;28mall\u001b[39m(\u001b[38;5;28mall\u001b[39m(_isreal(value) \u001b[38;5;28;01mfor\u001b[39;00m value \u001b[38;5;129;01min\u001b[39;00m vector) \u001b[38;5;28;01mfor\u001b[39;00m vector \u001b[38;5;129;01min\u001b[39;00m parameter_values)\n\u001b[32m    162\u001b[39m ):\n\u001b[32m    163\u001b[39m     \u001b[38;5;28;01mraise\u001b[39;00m \u001b[38;5;167;01mTypeError\u001b[39;00m(\u001b[33m\"\u001b[39m\u001b[33mInvalid parameter values, expected Sequence[Sequence[float]].\u001b[39m\u001b[33m\"\u001b[39m)\n\u001b[32m    165\u001b[39m \u001b[38;5;28;01mreturn\u001b[39;00m \u001b[38;5;28mtuple\u001b[39m(\u001b[38;5;28mtuple\u001b[39m(\u001b[38;5;28mfloat\u001b[39m(value) \u001b[38;5;28;01mfor\u001b[39;00m value \u001b[38;5;129;01min\u001b[39;00m vector) \u001b[38;5;28;01mfor\u001b[39;00m vector \u001b[38;5;129;01min\u001b[39;00m parameter_values)\n",
      "\u001b[36mFile \u001b[39m\u001b[32m~/miniconda3/envs/aer-gpu-new/lib/python3.11/site-packages/qiskit/primitives/base/validation.py:161\u001b[39m, in \u001b[36m<genexpr>\u001b[39m\u001b[34m(.0)\u001b[39m\n\u001b[32m    155\u001b[39m     parameter_values = (parameter_values,)\n\u001b[32m    157\u001b[39m \u001b[38;5;66;03m# Validation\u001b[39;00m\n\u001b[32m    158\u001b[39m \u001b[38;5;28;01mif\u001b[39;00m (\n\u001b[32m    159\u001b[39m     \u001b[38;5;129;01mnot\u001b[39;00m \u001b[38;5;28misinstance\u001b[39m(parameter_values, Sequence)\n\u001b[32m    160\u001b[39m     \u001b[38;5;129;01mor\u001b[39;00m \u001b[38;5;129;01mnot\u001b[39;00m \u001b[38;5;28mall\u001b[39m(\u001b[38;5;28misinstance\u001b[39m(vector, Sequence) \u001b[38;5;28;01mfor\u001b[39;00m vector \u001b[38;5;129;01min\u001b[39;00m parameter_values)\n\u001b[32m--> \u001b[39m\u001b[32m161\u001b[39m     \u001b[38;5;129;01mor\u001b[39;00m \u001b[38;5;129;01mnot\u001b[39;00m \u001b[38;5;28mall\u001b[39m(\u001b[38;5;28mall\u001b[39m(_isreal(value) \u001b[38;5;28;01mfor\u001b[39;00m value \u001b[38;5;129;01min\u001b[39;00m vector) \u001b[38;5;28;01mfor\u001b[39;00m vector \u001b[38;5;129;01min\u001b[39;00m parameter_values)\n\u001b[32m    162\u001b[39m ):\n\u001b[32m    163\u001b[39m     \u001b[38;5;28;01mraise\u001b[39;00m \u001b[38;5;167;01mTypeError\u001b[39;00m(\u001b[33m\"\u001b[39m\u001b[33mInvalid parameter values, expected Sequence[Sequence[float]].\u001b[39m\u001b[33m\"\u001b[39m)\n\u001b[32m    165\u001b[39m \u001b[38;5;28;01mreturn\u001b[39;00m \u001b[38;5;28mtuple\u001b[39m(\u001b[38;5;28mtuple\u001b[39m(\u001b[38;5;28mfloat\u001b[39m(value) \u001b[38;5;28;01mfor\u001b[39;00m value \u001b[38;5;129;01min\u001b[39;00m vector) \u001b[38;5;28;01mfor\u001b[39;00m vector \u001b[38;5;129;01min\u001b[39;00m parameter_values)\n",
      "\u001b[36mFile \u001b[39m\u001b[32m~/miniconda3/envs/aer-gpu-new/lib/python3.11/site-packages/qiskit/primitives/base/validation.py:161\u001b[39m, in \u001b[36m<genexpr>\u001b[39m\u001b[34m(.0)\u001b[39m\n\u001b[32m    155\u001b[39m     parameter_values = (parameter_values,)\n\u001b[32m    157\u001b[39m \u001b[38;5;66;03m# Validation\u001b[39;00m\n\u001b[32m    158\u001b[39m \u001b[38;5;28;01mif\u001b[39;00m (\n\u001b[32m    159\u001b[39m     \u001b[38;5;129;01mnot\u001b[39;00m \u001b[38;5;28misinstance\u001b[39m(parameter_values, Sequence)\n\u001b[32m    160\u001b[39m     \u001b[38;5;129;01mor\u001b[39;00m \u001b[38;5;129;01mnot\u001b[39;00m \u001b[38;5;28mall\u001b[39m(\u001b[38;5;28misinstance\u001b[39m(vector, Sequence) \u001b[38;5;28;01mfor\u001b[39;00m vector \u001b[38;5;129;01min\u001b[39;00m parameter_values)\n\u001b[32m--> \u001b[39m\u001b[32m161\u001b[39m     \u001b[38;5;129;01mor\u001b[39;00m \u001b[38;5;129;01mnot\u001b[39;00m \u001b[38;5;28mall\u001b[39m(\u001b[38;5;28mall\u001b[39m(_isreal(value) \u001b[38;5;28;01mfor\u001b[39;00m value \u001b[38;5;129;01min\u001b[39;00m vector) \u001b[38;5;28;01mfor\u001b[39;00m vector \u001b[38;5;129;01min\u001b[39;00m parameter_values)\n\u001b[32m    162\u001b[39m ):\n\u001b[32m    163\u001b[39m     \u001b[38;5;28;01mraise\u001b[39;00m \u001b[38;5;167;01mTypeError\u001b[39;00m(\u001b[33m\"\u001b[39m\u001b[33mInvalid parameter values, expected Sequence[Sequence[float]].\u001b[39m\u001b[33m\"\u001b[39m)\n\u001b[32m    165\u001b[39m \u001b[38;5;28;01mreturn\u001b[39;00m \u001b[38;5;28mtuple\u001b[39m(\u001b[38;5;28mtuple\u001b[39m(\u001b[38;5;28mfloat\u001b[39m(value) \u001b[38;5;28;01mfor\u001b[39;00m value \u001b[38;5;129;01min\u001b[39;00m vector) \u001b[38;5;28;01mfor\u001b[39;00m vector \u001b[38;5;129;01min\u001b[39;00m parameter_values)\n",
      "\u001b[36mFile \u001b[39m\u001b[32m~/miniconda3/envs/aer-gpu-new/lib/python3.11/site-packages/qiskit/primitives/base/validation.py:217\u001b[39m, in \u001b[36m_isreal\u001b[39m\u001b[34m(obj)\u001b[39m\n\u001b[32m    213\u001b[39m     int_types = (\u001b[38;5;28mint\u001b[39m, np.integer)\n\u001b[32m    214\u001b[39m     \u001b[38;5;28;01mreturn\u001b[39;00m \u001b[38;5;28misinstance\u001b[39m(obj, int_types) \u001b[38;5;129;01mand\u001b[39;00m \u001b[38;5;129;01mnot\u001b[39;00m \u001b[38;5;28misinstance\u001b[39m(obj, \u001b[38;5;28mbool\u001b[39m)\n\u001b[32m--> \u001b[39m\u001b[32m217\u001b[39m \u001b[38;5;28;01mdef\u001b[39;00m\u001b[38;5;250m \u001b[39m\u001b[34m_isreal\u001b[39m(obj: Sequence[Sequence[\u001b[38;5;28mfloat\u001b[39m]] | Sequence[\u001b[38;5;28mfloat\u001b[39m] | \u001b[38;5;28mfloat\u001b[39m) -> \u001b[38;5;28mbool\u001b[39m:\n\u001b[32m    218\u001b[39m \u001b[38;5;250m    \u001b[39m\u001b[33;03m\"\"\"Check if object is a real number: int or float except ``±Inf`` and ``NaN``.\"\"\"\u001b[39;00m\n\u001b[32m    219\u001b[39m     float_types = (\u001b[38;5;28mfloat\u001b[39m, np.floating)\n",
      "\u001b[31mKeyboardInterrupt\u001b[39m: "
     ]
    }
   ],
   "source": [
    "import time\n",
    "from qiskit.circuit.library import ZZFeatureMap\n",
    "from qiskit_aer import AerSimulator\n",
    "from qiskit_machine_learning.algorithms import QSVC\n",
    "from qiskit_machine_learning.kernels import FidelityQuantumKernel\n",
    "from qiskit.primitives import Sampler\n",
    "from qiskit_algorithms.state_fidelities import ComputeUncompute\n",
    "from sklearn.metrics import accuracy_score\n",
    "\n",
    "start_time = time.time()\n",
    "\n",
    "# GPU-accelerated simulator\n",
    "simulator_gpu = AerSimulator(device='GPU')\n",
    "\n",
    "\n",
    "# Define ZZFeatureMap\n",
    "nqubits = 10\n",
    "zzfm = ZZFeatureMap(feature_dimension=nqubits, reps=1, entanglement='linear')\n",
    "\n",
    "# FidelityQuantumKernel setup\n",
    "sampler = Sampler()\n",
    "fidelity = ComputeUncompute(sampler=sampler)\n",
    "quantum_kernel_gpu = FidelityQuantumKernel(feature_map=zzfm, fidelity=fidelity)\n",
    "\n",
    "# QSVC using FidelityQuantumKernel\n",
    "qsvm_gpu = QSVC(quantum_kernel=quantum_kernel_gpu)\n",
    "qsvm_gpu.fit(xs_tr, y_tr)\n",
    "\n",
    "# Evaluate and print GPU-accelerated results\n",
    "y_pred_gpu = qsvm_gpu.predict(xs_test)\n",
    "accuracy_gpu = accuracy_score(y_test, y_pred_gpu)\n",
    "print(f\"GPU-accelerated QSVC accuracy: {accuracy_gpu:.4f}\")\n",
    "\n",
    "end_time = time.time()\n",
    "elapsed_time = end_time - start_time\n",
    "print(f\"Elapsed time: {elapsed_time:.2f} seconds\")\n",
    "\n"
   ]
  },
  {
   "cell_type": "code",
   "execution_count": null,
   "id": "9d4b0f58-a7dd-4c0c-ad48-17ec3e41960b",
   "metadata": {},
   "outputs": [],
   "source": [
    "import qiskit_machine_learning\n",
    "print(qiskit_machine_learning.__version__)\n"
   ]
  },
  {
   "cell_type": "code",
   "execution_count": null,
   "id": "c1dc8668-4ff5-4f3f-855b-4b7c54a05974",
   "metadata": {},
   "outputs": [],
   "source": [
    "import qiskit_algorithms\n",
    "print(qiskit_algorithms.__version__)\n"
   ]
  },
  {
   "cell_type": "code",
   "execution_count": null,
   "id": "ff00b22c-fc7a-4ab4-950b-321a6978bd01",
   "metadata": {},
   "outputs": [],
   "source": []
  }
 ],
 "metadata": {
  "kernelspec": {
   "display_name": "Python 3 (ipykernel)",
   "language": "python",
   "name": "python3"
  },
  "language_info": {
   "codemirror_mode": {
    "name": "ipython",
    "version": 3
   },
   "file_extension": ".py",
   "mimetype": "text/x-python",
   "name": "python",
   "nbconvert_exporter": "python",
   "pygments_lexer": "ipython3",
   "version": "3.11.11"
  }
 },
 "nbformat": 4,
 "nbformat_minor": 5
}
