{
 "cells": [
  {
   "cell_type": "code",
   "execution_count": 2,
   "id": "bcd54448-b87c-40ad-98a8-194ff514044a",
   "metadata": {},
   "outputs": [
    {
     "name": "stdout",
     "output_type": "stream",
     "text": [
      "Files already downloaded and verified\n",
      "Files already downloaded and verified\n"
     ]
    }
   ],
   "source": [
    "import numpy as np\n",
    "from torchvision.datasets import CIFAR10\n",
    "import torchvision.transforms as transforms\n",
    "\n",
    "transform = transforms.Compose([\n",
    "    transforms.Resize(224),  # Required for CNN input size\n",
    "    transforms.ToTensor()\n",
    "])\n",
    "\n",
    "trainset = CIFAR10(root='./data', train=True, download=True, transform=transform)\n",
    "testset = CIFAR10(root='./data', train=False, download=True, transform=transform)\n",
    "\n"
   ]
  },
  {
   "cell_type": "code",
   "execution_count": 3,
   "id": "53aebd84-d8ae-4a1c-9cab-e4028e737edc",
   "metadata": {},
   "outputs": [
    {
     "name": "stdout",
     "output_type": "stream",
     "text": [
      "Feature shapes: train (50000, 512), test (10000, 512)\n"
     ]
    }
   ],
   "source": [
    "import torch\n",
    "import torchvision.models as models\n",
    "from torch.utils.data import DataLoader\n",
    "\n",
    "# Load pretrained ResNet18\n",
    "model = models.resnet18(pretrained=True)\n",
    "model.fc = torch.nn.Identity()  # remove last classification layer\n",
    "model.eval()\n",
    "\n",
    "def extract_features(dataset):\n",
    "    loader = DataLoader(dataset, batch_size=64, shuffle=False)\n",
    "    features = []\n",
    "    labels = []\n",
    "    with torch.no_grad():\n",
    "        for imgs, lbls in loader:\n",
    "            feats = model(imgs).cpu().numpy()  # <-- MOVED TO CPU FIRST\n",
    "            features.append(feats)\n",
    "            labels.append(lbls.numpy())\n",
    "    return np.vstack(features), np.hstack(labels)\n",
    "\n",
    "x_train, y_train = extract_features(trainset)\n",
    "x_test, y_test = extract_features(testset)\n",
    "\n",
    "print(f\"Feature shapes: train {x_train.shape}, test {x_test.shape}\")\n"
   ]
  },
  {
   "cell_type": "code",
   "execution_count": 5,
   "id": "60ed7a99-abf3-40ca-8f05-813f28045b4b",
   "metadata": {},
   "outputs": [
    {
     "name": "stdout",
     "output_type": "stream",
     "text": [
      "Shape after PCA: train (50000, 10), test (10000, 10)\n",
      "SVM RBF Kernel Accuracy after PCA: 0.6285\n",
      "\n",
      "Classification Report after PCA:\n",
      "              precision    recall  f1-score   support\n",
      "\n",
      "           0       0.71      0.71      0.71      1000\n",
      "           1       0.70      0.68      0.69      1000\n",
      "           2       0.52      0.43      0.47      1000\n",
      "           3       0.45      0.48      0.46      1000\n",
      "           4       0.57      0.58      0.58      1000\n",
      "           5       0.63      0.57      0.60      1000\n",
      "           6       0.65      0.73      0.69      1000\n",
      "           7       0.69      0.64      0.66      1000\n",
      "           8       0.67      0.74      0.71      1000\n",
      "           9       0.67      0.71      0.69      1000\n",
      "\n",
      "    accuracy                           0.63     10000\n",
      "   macro avg       0.63      0.63      0.63     10000\n",
      "weighted avg       0.63      0.63      0.63     10000\n",
      "\n",
      "Elapsed time: 25.5733 seconds\n"
     ]
    }
   ],
   "source": [
    "from sklearn.decomposition import PCA\n",
    "from sklearn.preprocessing import StandardScaler\n",
    "\n",
    "# Step 1: Scaling on original CNN features\n",
    "scaler = StandardScaler()\n",
    "x_train_scaled = scaler.fit_transform(x_train)\n",
    "x_test_scaled = scaler.transform(x_test)\n",
    "\n",
    "# Step 2: PCA\n",
    "pca_components = 10\n",
    "pca = PCA(n_components=pca_components, random_state=1234)\n",
    "x_train_pca = pca.fit_transform(x_train_scaled)\n",
    "x_test_pca = pca.transform(x_test_scaled)\n",
    "\n",
    "print(f\"Shape after PCA: train {x_train_pca.shape}, test {x_test_pca.shape}\")\n",
    "\n",
    "# Step 3: Train and evaluate RBF SVM\n",
    "from sklearn.svm import SVC\n",
    "from sklearn.metrics import accuracy_score, classification_report\n",
    "import time\n",
    "\n",
    "start_time = time.time()\n",
    "\n",
    "svm_rbf = SVC(kernel='rbf', gamma='scale', random_state=1234)\n",
    "svm_rbf.fit(x_train_pca, y_train)\n",
    "\n",
    "# Predictions\n",
    "y_pred = svm_rbf.predict(x_test_pca)\n",
    "\n",
    "# Evaluate accuracy\n",
    "accuracy = accuracy_score(y_test, y_pred)\n",
    "print(f\"SVM RBF Kernel Accuracy after PCA: {accuracy:.4f}\\n\")\n",
    "\n",
    "# Classification report\n",
    "print(\"Classification Report after PCA:\")\n",
    "print(classification_report(y_test, y_pred))\n",
    "\n",
    "print(f\"Elapsed time: {time.time() - start_time:.4f} seconds\")\n"
   ]
  },
  {
   "cell_type": "code",
   "execution_count": null,
   "id": "d9f15900-639c-4060-a861-dd95f4afabe6",
   "metadata": {},
   "outputs": [
    {
     "name": "stderr",
     "output_type": "stream",
     "text": [
      "/tmp/ipykernel_475/3391722220.py:19: DeprecationWarning: The class ``qiskit.primitives.sampler.Sampler`` is deprecated as of qiskit 1.2. It will be removed no earlier than 3 months after the release date. All implementations of the `BaseSamplerV1` interface have been deprecated in favor of their V2 counterparts. The V2 alternative for the `Sampler` class is `StatevectorSampler`.\n",
      "  sampler = Sampler()\n"
     ]
    }
   ],
   "source": [
    "import time\n",
    "from qiskit.circuit.library import ZZFeatureMap\n",
    "from qiskit.primitives import Sampler\n",
    "from qiskit_algorithms.state_fidelities import ComputeUncompute\n",
    "from qiskit_machine_learning.algorithms import QSVC\n",
    "from qiskit_machine_learning.kernels import FidelityQuantumKernel\n",
    "from sklearn.metrics import accuracy_score, classification_report\n",
    "\n",
    "# Timer\n",
    "start_time = time.time()\n",
    "\n",
    "# Set number of qubits (features)\n",
    "num_features = x_train_pca.shape[1]  # PCA-reduced dimensions (20)\n",
    "\n",
    "# ZZFeatureMap (pairwise entanglement, 1 rep)\n",
    "feature_map = ZZFeatureMap(feature_dimension=num_features, reps=1, entanglement='circular')\n",
    "\n",
    "# FidelityQuantumKernel setup with Sampler and ComputeUncompute (matching your setup)\n",
    "sampler = Sampler()\n",
    "fidelity = ComputeUncompute(sampler=sampler)\n",
    "quantum_kernel_gpu = FidelityQuantumKernel(feature_map=feature_map, fidelity=fidelity)\n",
    "\n",
    "# QSVC classifier using quantum kernel\n",
    "qsvc = QSVC(quantum_kernel=quantum_kernel_gpu)\n",
    "\n",
    "# Fit QSVM model on PCA training data\n",
    "qsvc.fit(x_train_pca, y_train)\n",
    "\n",
    "# Predict with QSVM model on PCA test data\n",
    "y_pred = qsvc.predict(x_test_pca)\n",
    "\n",
    "# Evaluate accuracy\n",
    "accuracy = accuracy_score(y_test, y_pred)\n",
    "print(f\"QSVM (ZZFeatureMap pairwise, 1 rep) Accuracy: {accuracy:.4f}\\n\")\n",
    "\n",
    "# Detailed classification report\n",
    "print(\"Classification Report (QSVM):\")\n",
    "print(classification_report(y_test, y_pred))\n",
    "\n",
    "# Elapsed time\n",
    "elapsed_time = time.time() - start_time\n",
    "print(f\"Elapsed time: {elapsed_time:.4f} seconds\")\n"
   ]
  },
  {
   "cell_type": "code",
   "execution_count": 6,
   "id": "32fee672-a14f-4ecd-b154-47057832031b",
   "metadata": {},
   "outputs": [
    {
     "data": {
      "text/plain": [
       "10"
      ]
     },
     "execution_count": 6,
     "metadata": {},
     "output_type": "execute_result"
    }
   ],
   "source": [
    "x_train_pca.shape[1]\n"
   ]
  },
  {
   "cell_type": "code",
   "execution_count": null,
   "id": "ef500e49-301e-4167-a035-3655384d2a45",
   "metadata": {},
   "outputs": [],
   "source": []
  }
 ],
 "metadata": {
  "kernelspec": {
   "display_name": "Python 3 (ipykernel)",
   "language": "python",
   "name": "python3"
  },
  "language_info": {
   "codemirror_mode": {
    "name": "ipython",
    "version": 3
   },
   "file_extension": ".py",
   "mimetype": "text/x-python",
   "name": "python",
   "nbconvert_exporter": "python",
   "pygments_lexer": "ipython3",
   "version": "3.11.11"
  }
 },
 "nbformat": 4,
 "nbformat_minor": 5
}
